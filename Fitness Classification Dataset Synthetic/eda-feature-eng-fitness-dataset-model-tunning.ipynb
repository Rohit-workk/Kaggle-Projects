{
 "cells": [
  {
   "cell_type": "code",
   "execution_count": 1,
   "id": "d1fb5b3f",
   "metadata": {
    "_cell_guid": "b1076dfc-b9ad-4769-8c92-a6c4dae69d19",
    "_uuid": "8f2839f25d086af736a60e9eeb907d3b93b6e0e5",
    "execution": {
     "iopub.execute_input": "2025-09-07T10:22:08.880085Z",
     "iopub.status.busy": "2025-09-07T10:22:08.879694Z",
     "iopub.status.idle": "2025-09-07T10:22:10.950986Z",
     "shell.execute_reply": "2025-09-07T10:22:10.950026Z"
    },
    "papermill": {
     "duration": 2.083919,
     "end_time": "2025-09-07T10:22:10.953098",
     "exception": false,
     "start_time": "2025-09-07T10:22:08.869179",
     "status": "completed"
    },
    "tags": []
   },
   "outputs": [
    {
     "name": "stdout",
     "output_type": "stream",
     "text": [
      "/kaggle/input/fitness-classification-dataset-synthetic/README.md\n",
      "/kaggle/input/fitness-classification-dataset-synthetic/fitness_dataset.csv\n",
      "/kaggle/input/fitness-classification-dataset-synthetic/dataset-metadata.json\n"
     ]
    }
   ],
   "source": [
    "# This Python 3 environment comes with many helpful analytics libraries installed\n",
    "# It is defined by the kaggle/python Docker image: https://github.com/kaggle/docker-python\n",
    "# For example, here's several helpful packages to load\n",
    "\n",
    "import numpy as np # linear algebra\n",
    "import pandas as pd # data processing, CSV file I/O (e.g. pd.read_csv)\n",
    "\n",
    "# Input data files are available in the read-only \"../input/\" directory\n",
    "# For example, running this (by clicking run or pressing Shift+Enter) will list all files under the input directory\n",
    "\n",
    "import os\n",
    "for dirname, _, filenames in os.walk('/kaggle/input'):\n",
    "    for filename in filenames:\n",
    "        print(os.path.join(dirname, filename))\n",
    "\n",
    "# You can write up to 20GB to the current directory (/kaggle/working/) that gets preserved as output when you create a version using \"Save & Run All\" \n",
    "# You can also write temporary files to /kaggle/temp/, but they won't be saved outside of the current session"
   ]
  },
  {
   "cell_type": "code",
   "execution_count": 2,
   "id": "080f5fa1",
   "metadata": {
    "execution": {
     "iopub.execute_input": "2025-09-07T10:22:10.971686Z",
     "iopub.status.busy": "2025-09-07T10:22:10.971204Z",
     "iopub.status.idle": "2025-09-07T10:22:11.027120Z",
     "shell.execute_reply": "2025-09-07T10:22:11.026005Z"
    },
    "papermill": {
     "duration": 0.067532,
     "end_time": "2025-09-07T10:22:11.028964",
     "exception": false,
     "start_time": "2025-09-07T10:22:10.961432",
     "status": "completed"
    },
    "tags": []
   },
   "outputs": [
    {
     "name": "stderr",
     "output_type": "stream",
     "text": [
      "/usr/local/lib/python3.11/dist-packages/pandas/io/formats/format.py:1458: RuntimeWarning: invalid value encountered in greater\n",
      "  has_large_values = (abs_vals > 1e6).any()\n",
      "/usr/local/lib/python3.11/dist-packages/pandas/io/formats/format.py:1459: RuntimeWarning: invalid value encountered in less\n",
      "  has_small_values = ((abs_vals < 10 ** (-self.digits)) & (abs_vals > 0)).any()\n",
      "/usr/local/lib/python3.11/dist-packages/pandas/io/formats/format.py:1459: RuntimeWarning: invalid value encountered in greater\n",
      "  has_small_values = ((abs_vals < 10 ** (-self.digits)) & (abs_vals > 0)).any()\n"
     ]
    },
    {
     "data": {
      "text/html": [
       "<div>\n",
       "<style scoped>\n",
       "    .dataframe tbody tr th:only-of-type {\n",
       "        vertical-align: middle;\n",
       "    }\n",
       "\n",
       "    .dataframe tbody tr th {\n",
       "        vertical-align: top;\n",
       "    }\n",
       "\n",
       "    .dataframe thead th {\n",
       "        text-align: right;\n",
       "    }\n",
       "</style>\n",
       "<table border=\"1\" class=\"dataframe\">\n",
       "  <thead>\n",
       "    <tr style=\"text-align: right;\">\n",
       "      <th></th>\n",
       "      <th>age</th>\n",
       "      <th>height_cm</th>\n",
       "      <th>weight_kg</th>\n",
       "      <th>heart_rate</th>\n",
       "      <th>blood_pressure</th>\n",
       "      <th>sleep_hours</th>\n",
       "      <th>nutrition_quality</th>\n",
       "      <th>activity_index</th>\n",
       "      <th>smokes</th>\n",
       "      <th>gender</th>\n",
       "      <th>is_fit</th>\n",
       "    </tr>\n",
       "  </thead>\n",
       "  <tbody>\n",
       "    <tr>\n",
       "      <th>0</th>\n",
       "      <td>56</td>\n",
       "      <td>152</td>\n",
       "      <td>65</td>\n",
       "      <td>69.6</td>\n",
       "      <td>117.0</td>\n",
       "      <td>NaN</td>\n",
       "      <td>2.37</td>\n",
       "      <td>3.97</td>\n",
       "      <td>no</td>\n",
       "      <td>F</td>\n",
       "      <td>1</td>\n",
       "    </tr>\n",
       "    <tr>\n",
       "      <th>1</th>\n",
       "      <td>69</td>\n",
       "      <td>186</td>\n",
       "      <td>95</td>\n",
       "      <td>60.8</td>\n",
       "      <td>114.8</td>\n",
       "      <td>7.5</td>\n",
       "      <td>8.77</td>\n",
       "      <td>3.19</td>\n",
       "      <td>0</td>\n",
       "      <td>F</td>\n",
       "      <td>1</td>\n",
       "    </tr>\n",
       "    <tr>\n",
       "      <th>2</th>\n",
       "      <td>46</td>\n",
       "      <td>192</td>\n",
       "      <td>103</td>\n",
       "      <td>61.4</td>\n",
       "      <td>116.4</td>\n",
       "      <td>NaN</td>\n",
       "      <td>8.20</td>\n",
       "      <td>2.03</td>\n",
       "      <td>0</td>\n",
       "      <td>F</td>\n",
       "      <td>0</td>\n",
       "    </tr>\n",
       "    <tr>\n",
       "      <th>3</th>\n",
       "      <td>32</td>\n",
       "      <td>189</td>\n",
       "      <td>83</td>\n",
       "      <td>60.2</td>\n",
       "      <td>130.1</td>\n",
       "      <td>7.0</td>\n",
       "      <td>6.18</td>\n",
       "      <td>3.68</td>\n",
       "      <td>0</td>\n",
       "      <td>M</td>\n",
       "      <td>1</td>\n",
       "    </tr>\n",
       "    <tr>\n",
       "      <th>4</th>\n",
       "      <td>60</td>\n",
       "      <td>175</td>\n",
       "      <td>99</td>\n",
       "      <td>58.1</td>\n",
       "      <td>115.8</td>\n",
       "      <td>8.0</td>\n",
       "      <td>9.95</td>\n",
       "      <td>4.83</td>\n",
       "      <td>yes</td>\n",
       "      <td>F</td>\n",
       "      <td>1</td>\n",
       "    </tr>\n",
       "  </tbody>\n",
       "</table>\n",
       "</div>"
      ],
      "text/plain": [
       "   age  height_cm  weight_kg  heart_rate  blood_pressure  sleep_hours  \\\n",
       "0   56        152         65        69.6           117.0          NaN   \n",
       "1   69        186         95        60.8           114.8          7.5   \n",
       "2   46        192        103        61.4           116.4          NaN   \n",
       "3   32        189         83        60.2           130.1          7.0   \n",
       "4   60        175         99        58.1           115.8          8.0   \n",
       "\n",
       "   nutrition_quality  activity_index smokes gender  is_fit  \n",
       "0               2.37            3.97     no      F       1  \n",
       "1               8.77            3.19      0      F       1  \n",
       "2               8.20            2.03      0      F       0  \n",
       "3               6.18            3.68      0      M       1  \n",
       "4               9.95            4.83    yes      F       1  "
      ]
     },
     "execution_count": 2,
     "metadata": {},
     "output_type": "execute_result"
    }
   ],
   "source": [
    "df = pd.read_csv(\"/kaggle/input/fitness-classification-dataset-synthetic/fitness_dataset.csv\")\n",
    "df.head()\n"
   ]
  },
  {
   "cell_type": "code",
   "execution_count": 3,
   "id": "71fe5570",
   "metadata": {
    "execution": {
     "iopub.execute_input": "2025-09-07T10:22:11.045691Z",
     "iopub.status.busy": "2025-09-07T10:22:11.045331Z",
     "iopub.status.idle": "2025-09-07T10:22:11.114240Z",
     "shell.execute_reply": "2025-09-07T10:22:11.112580Z"
    },
    "papermill": {
     "duration": 0.079341,
     "end_time": "2025-09-07T10:22:11.116104",
     "exception": false,
     "start_time": "2025-09-07T10:22:11.036763",
     "status": "completed"
    },
    "tags": []
   },
   "outputs": [
    {
     "name": "stdout",
     "output_type": "stream",
     "text": [
      "\n",
      "==================================\n",
      "\n",
      "shape of our dataset is  (2000, 11)\n",
      "\n",
      " ================================\n",
      "\n",
      "<class 'pandas.core.frame.DataFrame'>\n",
      "RangeIndex: 2000 entries, 0 to 1999\n",
      "Data columns (total 11 columns):\n",
      " #   Column             Non-Null Count  Dtype  \n",
      "---  ------             --------------  -----  \n",
      " 0   age                2000 non-null   int64  \n",
      " 1   height_cm          2000 non-null   int64  \n",
      " 2   weight_kg          2000 non-null   int64  \n",
      " 3   heart_rate         2000 non-null   float64\n",
      " 4   blood_pressure     2000 non-null   float64\n",
      " 5   sleep_hours        1840 non-null   float64\n",
      " 6   nutrition_quality  2000 non-null   float64\n",
      " 7   activity_index     2000 non-null   float64\n",
      " 8   smokes             2000 non-null   object \n",
      " 9   gender             2000 non-null   object \n",
      " 10  is_fit             2000 non-null   int64  \n",
      "dtypes: float64(5), int64(4), object(2)\n",
      "memory usage: 172.0+ KB\n",
      "information of each columns  None\n",
      "\n",
      " ================================\n",
      "\n",
      "stats about numerical columns \n",
      "                age   height_cm    weight_kg   heart_rate  blood_pressure  \\\n",
      "count  2000.000000  2000.00000  2000.000000  2000.000000     2000.000000   \n",
      "mean     49.114000   174.53300    83.540500    70.288600      119.908850   \n",
      "std      17.926564    14.37175    25.852534    11.846339       14.578032   \n",
      "min      18.000000   150.00000    30.000000    45.000000       90.000000   \n",
      "25%      34.000000   162.00000    64.000000    62.100000      109.700000   \n",
      "50%      49.000000   174.00000    83.000000    70.250000      120.000000   \n",
      "75%      65.000000   187.00000   102.000000    78.425000      129.800000   \n",
      "max      79.000000   199.00000   250.000000   118.600000      171.200000   \n",
      "\n",
      "       sleep_hours  nutrition_quality  activity_index       is_fit  \n",
      "count  1840.000000        2000.000000     2000.000000  2000.000000  \n",
      "mean      7.513315           5.035140        2.999040     0.399500  \n",
      "std       1.502031           2.864156        1.136383     0.489918  \n",
      "min       4.000000           0.000000        1.000000     0.000000  \n",
      "25%       6.500000           2.547500        2.037500     0.000000  \n",
      "50%       7.500000           5.065000        2.980000     0.000000  \n",
      "75%       8.600000           7.470000        3.950000     1.000000  \n",
      "max      12.000000          10.000000        4.990000     1.000000  \n",
      "\n",
      " ================================\n",
      "\n",
      "stats for non numerical columns \n",
      "        smokes gender\n",
      "count    2000   2000\n",
      "unique      4      2\n",
      "top       yes      F\n",
      "freq      711   1030\n",
      "\n",
      " ================================\n",
      "\n",
      " columns present in dataset \n",
      " Index(['age', 'height_cm', 'weight_kg', 'heart_rate', 'blood_pressure',\n",
      "       'sleep_hours', 'nutrition_quality', 'activity_index', 'smokes',\n",
      "       'gender', 'is_fit'],\n",
      "      dtype='object')\n"
     ]
    }
   ],
   "source": [
    "\n",
    "# this warning is for more number of null values present int the dataset\n",
    "\n",
    "\n",
    "\n",
    "# lets check the  basic information about the dataset\n",
    "print(\"\\n==================================\\n\")\n",
    "print(\"shape of our dataset is \",df.shape)\n",
    "print(\"\\n ================================\\n\")\n",
    "print(\"information of each columns \",df.info())\n",
    "print(\"\\n ================================\\n\")\n",
    "print(\"stats about numerical columns \\n\",df.describe())\n",
    "print(\"\\n ================================\\n\")\n",
    "print(\"stats for non numerical columns \\n\",df.describe(include = \"O\"))\n",
    "print(\"\\n ================================\\n\")\n",
    "print(\" columns present in dataset \\n\",df.columns)\n"
   ]
  },
  {
   "cell_type": "code",
   "execution_count": 4,
   "id": "965fe539",
   "metadata": {
    "execution": {
     "iopub.execute_input": "2025-09-07T10:22:11.134900Z",
     "iopub.status.busy": "2025-09-07T10:22:11.134482Z",
     "iopub.status.idle": "2025-09-07T10:22:11.142821Z",
     "shell.execute_reply": "2025-09-07T10:22:11.141558Z"
    },
    "papermill": {
     "duration": 0.018801,
     "end_time": "2025-09-07T10:22:11.144459",
     "exception": false,
     "start_time": "2025-09-07T10:22:11.125658",
     "status": "completed"
    },
    "tags": []
   },
   "outputs": [
    {
     "name": "stdout",
     "output_type": "stream",
     "text": [
      "percentage of null values present in data per column \n",
      " age                  0.0\n",
      "height_cm            0.0\n",
      "weight_kg            0.0\n",
      "heart_rate           0.0\n",
      "blood_pressure       0.0\n",
      "sleep_hours          8.0\n",
      "nutrition_quality    0.0\n",
      "activity_index       0.0\n",
      "smokes               0.0\n",
      "gender               0.0\n",
      "is_fit               0.0\n",
      "dtype: float64\n"
     ]
    }
   ],
   "source": [
    "#  lets check null values\n",
    "print(\"percentage of null values present in data per column \\n\",df.isnull().mean()*100)\n"
   ]
  },
  {
   "cell_type": "markdown",
   "id": "0eeac41f",
   "metadata": {
    "papermill": {
     "duration": 0.008183,
     "end_time": "2025-09-07T10:22:11.161623",
     "exception": false,
     "start_time": "2025-09-07T10:22:11.153440",
     "status": "completed"
    },
    "tags": []
   },
   "source": [
    "## FEATURE ENG."
   ]
  },
  {
   "cell_type": "code",
   "execution_count": 5,
   "id": "327aeb89",
   "metadata": {
    "execution": {
     "iopub.execute_input": "2025-09-07T10:22:11.180201Z",
     "iopub.status.busy": "2025-09-07T10:22:11.179879Z",
     "iopub.status.idle": "2025-09-07T10:22:11.187010Z",
     "shell.execute_reply": "2025-09-07T10:22:11.185992Z"
    },
    "papermill": {
     "duration": 0.018468,
     "end_time": "2025-09-07T10:22:11.188551",
     "exception": false,
     "start_time": "2025-09-07T10:22:11.170083",
     "status": "completed"
    },
    "tags": []
   },
   "outputs": [
    {
     "name": "stdout",
     "output_type": "stream",
     "text": [
      "variance before imputation  1.5020312107660214\n",
      "variance after imputation  1.440666390394102\n"
     ]
    },
    {
     "name": "stderr",
     "output_type": "stream",
     "text": [
      "/tmp/ipykernel_13/2345985831.py:16: FutureWarning: A value is trying to be set on a copy of a DataFrame or Series through chained assignment using an inplace method.\n",
      "The behavior will change in pandas 3.0. This inplace method will never work because the intermediate object on which we are setting values always behaves as a copy.\n",
      "\n",
      "For example, when doing 'df[col].method(value, inplace=True)', try using 'df.method({col: value}, inplace=True)' or df[col] = df[col].method(value) instead, to perform the operation inplace on the original object.\n",
      "\n",
      "\n",
      "  df[\"sleep_hours\"].fillna(df[\"sleep_hours\"].mean(),inplace = True)\n"
     ]
    }
   ],
   "source": [
    "# lets handel the missing values\n",
    "# print(df.sleep_hours.unique)\n",
    "\n",
    "\n",
    "\n",
    "# this shows that sleep hour is a numerical column \n",
    "# so WE CAN IMPUTE  VALUES WITH MEAN AND MEDIAN\n",
    "# we use mean\n",
    "\n",
    "\n",
    "#  lets calculate the variance \n",
    "print(\"variance before imputation \",df.sleep_hours.std())\n",
    "\n",
    "\n",
    "\n",
    "df[\"sleep_hours\"].fillna(df[\"sleep_hours\"].mean(),inplace = True)\n",
    "print(\"variance after imputation \",df.sleep_hours.std())"
   ]
  },
  {
   "cell_type": "code",
   "execution_count": 6,
   "id": "a08b8485",
   "metadata": {
    "execution": {
     "iopub.execute_input": "2025-09-07T10:22:11.205644Z",
     "iopub.status.busy": "2025-09-07T10:22:11.205289Z",
     "iopub.status.idle": "2025-09-07T10:22:11.220327Z",
     "shell.execute_reply": "2025-09-07T10:22:11.219339Z"
    },
    "papermill": {
     "duration": 0.025748,
     "end_time": "2025-09-07T10:22:11.222247",
     "exception": false,
     "start_time": "2025-09-07T10:22:11.196499",
     "status": "completed"
    },
    "tags": []
   },
   "outputs": [
    {
     "name": "stdout",
     "output_type": "stream",
     "text": [
      "nonnumerical(categorical) columns are  ['smokes', 'gender']\n",
      "values count for smokes is \n",
      "smokes\n",
      "yes    711\n",
      "0      581\n",
      "no     518\n",
      "1      190\n",
      "Name: count, dtype: int64\n",
      "\n",
      "\n",
      "\n",
      "values count for gender is \n",
      "gender\n",
      "F    1030\n",
      "M     970\n",
      "Name: count, dtype: int64\n",
      "\n",
      "\n",
      "\n"
     ]
    },
    {
     "data": {
      "text/plain": [
       "is_fit\n",
       "0    1201\n",
       "1     799\n",
       "Name: count, dtype: int64"
      ]
     },
     "execution_count": 6,
     "metadata": {},
     "output_type": "execute_result"
    }
   ],
   "source": [
    "#  some insights for categorical columns \n",
    "\n",
    "cat_col = []\n",
    "for col in df.columns:\n",
    "    if df[col].dtype == \"object\":\n",
    "        cat_col.append(col)\n",
    "print(\"nonnumerical(categorical) columns are \",cat_col)\n",
    "\n",
    "# now lets understand these columns\n",
    "\n",
    "for i in cat_col:\n",
    "    print(f\"values count for {i} is \")\n",
    "    print(df[i].value_counts())\n",
    "    print('\\n\\n')\n",
    "\n",
    "\n",
    "#  here our is_fit is target feature which also as categorie\n",
    "df[\"is_fit\"].value_counts()"
   ]
  },
  {
   "cell_type": "code",
   "execution_count": 7,
   "id": "7ceaf812",
   "metadata": {
    "execution": {
     "iopub.execute_input": "2025-09-07T10:22:11.239708Z",
     "iopub.status.busy": "2025-09-07T10:22:11.239376Z",
     "iopub.status.idle": "2025-09-07T10:22:11.249238Z",
     "shell.execute_reply": "2025-09-07T10:22:11.248196Z"
    },
    "papermill": {
     "duration": 0.020327,
     "end_time": "2025-09-07T10:22:11.250899",
     "exception": false,
     "start_time": "2025-09-07T10:22:11.230572",
     "status": "completed"
    },
    "tags": []
   },
   "outputs": [
    {
     "name": "stdout",
     "output_type": "stream",
     "text": [
      "datatype of smoke is int64\n",
      "values count for smoke after tranfrom  smokes\n",
      "0    1099\n",
      "1     901\n",
      "Name: count, dtype: int64\n"
     ]
    }
   ],
   "source": [
    "# from this we learn that smoke has 4 categories which is a mistake\n",
    "# it is either 0,1 or yes ,no\n",
    "# so transfrom the smoke feature 0,1\n",
    "\n",
    "# for smoke\n",
    "df[\"smokes\"] = df[\"smokes\"].replace({\"yes\": 1, \"no\": 0})\n",
    "\n",
    "\n",
    "\n",
    "# change the datatype\n",
    "\n",
    "df[\"smokes\"]=df[\"smokes\"].astype(int)\n",
    "\n",
    "\n",
    "print(\"datatype of smoke is\",df.smokes.dtype)\n",
    "print(\"values count for smoke after tranfrom \",df[\"smokes\"].value_counts())\n",
    "\n"
   ]
  },
  {
   "cell_type": "code",
   "execution_count": 8,
   "id": "9b7c66d9",
   "metadata": {
    "execution": {
     "iopub.execute_input": "2025-09-07T10:22:11.270468Z",
     "iopub.status.busy": "2025-09-07T10:22:11.270133Z",
     "iopub.status.idle": "2025-09-07T10:22:11.284585Z",
     "shell.execute_reply": "2025-09-07T10:22:11.283595Z"
    },
    "papermill": {
     "duration": 0.025785,
     "end_time": "2025-09-07T10:22:11.286162",
     "exception": false,
     "start_time": "2025-09-07T10:22:11.260377",
     "status": "completed"
    },
    "tags": []
   },
   "outputs": [
    {
     "data": {
      "text/plain": [
       "Index(['age', 'height_cm', 'weight_kg', 'heart_rate', 'blood_pressure',\n",
       "       'sleep_hours', 'nutrition_quality', 'activity_index', 'smokes',\n",
       "       'is_fit', 'gender_F', 'gender_M'],\n",
       "      dtype='object')"
      ]
     },
     "execution_count": 8,
     "metadata": {},
     "output_type": "execute_result"
    }
   ],
   "source": [
    "# LETS DO ONEHOTENCODING/ DUMMY VARIABLE FOR GENDER AS IT IS A NOMINAL TYPE CATEGORY\n",
    "df_final = pd.get_dummies(df,columns = [\"gender\"])\n",
    "df_final.columns\n",
    "\n",
    "\n"
   ]
  },
  {
   "cell_type": "code",
   "execution_count": null,
   "id": "5e8d0f74",
   "metadata": {
    "papermill": {
     "duration": 0.007823,
     "end_time": "2025-09-07T10:22:11.302993",
     "exception": false,
     "start_time": "2025-09-07T10:22:11.295170",
     "status": "completed"
    },
    "tags": []
   },
   "outputs": [],
   "source": []
  },
  {
   "cell_type": "markdown",
   "id": "7505a627",
   "metadata": {
    "papermill": {
     "duration": 0.007833,
     "end_time": "2025-09-07T10:22:11.319410",
     "exception": false,
     "start_time": "2025-09-07T10:22:11.311577",
     "status": "completed"
    },
    "tags": []
   },
   "source": [
    "## VISULIZATION"
   ]
  },
  {
   "cell_type": "code",
   "execution_count": 9,
   "id": "b7c2fc1e",
   "metadata": {
    "execution": {
     "iopub.execute_input": "2025-09-07T10:22:11.336999Z",
     "iopub.status.busy": "2025-09-07T10:22:11.336674Z",
     "iopub.status.idle": "2025-09-07T10:22:13.328354Z",
     "shell.execute_reply": "2025-09-07T10:22:13.327332Z"
    },
    "papermill": {
     "duration": 2.002487,
     "end_time": "2025-09-07T10:22:13.330144",
     "exception": false,
     "start_time": "2025-09-07T10:22:11.327657",
     "status": "completed"
    },
    "tags": []
   },
   "outputs": [],
   "source": [
    "import matplotlib.pyplot as plt\n",
    "import seaborn as sns"
   ]
  },
  {
   "cell_type": "code",
   "execution_count": 10,
   "id": "1fec7e84",
   "metadata": {
    "execution": {
     "iopub.execute_input": "2025-09-07T10:22:13.347868Z",
     "iopub.status.busy": "2025-09-07T10:22:13.347410Z",
     "iopub.status.idle": "2025-09-07T10:22:13.366679Z",
     "shell.execute_reply": "2025-09-07T10:22:13.365157Z"
    },
    "papermill": {
     "duration": 0.029745,
     "end_time": "2025-09-07T10:22:13.368284",
     "exception": false,
     "start_time": "2025-09-07T10:22:13.338539",
     "status": "completed"
    },
    "tags": []
   },
   "outputs": [
    {
     "name": "stdout",
     "output_type": "stream",
     "text": [
      "age\n",
      "43    48\n",
      "79    45\n",
      "68    44\n",
      "50    43\n",
      "64    42\n",
      "      ..\n",
      "58    24\n",
      "44    24\n",
      "60    23\n",
      "30    22\n",
      "63    21\n",
      "Name: count, Length: 62, dtype: int64\n",
      "height_cm\n",
      "170    55\n",
      "184    50\n",
      "174    48\n",
      "198    48\n",
      "153    47\n",
      "157    47\n",
      "169    47\n",
      "164    47\n",
      "171    46\n",
      "183    45\n",
      "195    45\n",
      "190    44\n",
      "155    44\n",
      "193    43\n",
      "178    42\n",
      "177    42\n",
      "161    42\n",
      "163    42\n",
      "181    42\n",
      "162    41\n",
      "194    41\n",
      "151    41\n",
      "196    40\n",
      "173    40\n",
      "199    40\n",
      "152    40\n",
      "186    40\n",
      "182    40\n",
      "179    40\n",
      "175    39\n",
      "167    39\n",
      "158    39\n",
      "160    39\n",
      "191    38\n",
      "185    38\n",
      "188    38\n",
      "154    37\n",
      "189    37\n",
      "187    37\n",
      "168    35\n",
      "166    35\n",
      "172    34\n",
      "165    34\n",
      "159    34\n",
      "197    31\n",
      "150    31\n",
      "192    30\n",
      "156    30\n",
      "176    29\n",
      "180    27\n",
      "Name: count, dtype: int64\n",
      "weight_kg\n",
      "103    42\n",
      "57     41\n",
      "72     38\n",
      "98     37\n",
      "61     36\n",
      "       ..\n",
      "58     13\n",
      "220    10\n",
      "200     7\n",
      "30      5\n",
      "250     4\n",
      "Name: count, Length: 80, dtype: int64\n",
      "heart_rate\n",
      "45.0    25\n",
      "59.2    12\n",
      "72.0    12\n",
      "72.8    11\n",
      "68.5    11\n",
      "        ..\n",
      "96.6     1\n",
      "93.6     1\n",
      "59.9     1\n",
      "97.7     1\n",
      "55.3     1\n",
      "Name: count, Length: 484, dtype: int64\n",
      "blood_pressure\n",
      "90.0     44\n",
      "120.5    11\n",
      "125.2    10\n",
      "110.4    10\n",
      "116.5    10\n",
      "         ..\n",
      "104.0     1\n",
      "101.2     1\n",
      "96.0      1\n",
      "146.7     1\n",
      "106.1     1\n",
      "Name: count, Length: 563, dtype: int64\n",
      "sleep_hours\n",
      "7.513315     160\n",
      "7.400000      55\n",
      "7.900000      52\n",
      "7.600000      51\n",
      "7.000000      50\n",
      "            ... \n",
      "12.000000      2\n",
      "11.200000      2\n",
      "4.200000       1\n",
      "11.600000      1\n",
      "11.700000      1\n",
      "Name: count, Length: 80, dtype: int64\n",
      "nutrition_quality\n",
      "9.38    9\n",
      "6.80    8\n",
      "3.55    7\n",
      "6.38    7\n",
      "6.83    7\n",
      "       ..\n",
      "9.37    1\n",
      "1.78    1\n",
      "0.41    1\n",
      "4.35    1\n",
      "7.96    1\n",
      "Name: count, Length: 866, dtype: int64\n",
      "activity_index\n",
      "2.39    15\n",
      "3.48    15\n",
      "3.61    11\n",
      "2.16    11\n",
      "4.16    10\n",
      "        ..\n",
      "4.04     1\n",
      "2.68     1\n",
      "2.33     1\n",
      "3.08     1\n",
      "1.02     1\n",
      "Name: count, Length: 398, dtype: int64\n",
      "smokes\n",
      "0    1099\n",
      "1     901\n",
      "Name: count, dtype: int64\n",
      "gender\n",
      "F    1030\n",
      "M     970\n",
      "Name: count, dtype: int64\n",
      "is_fit\n",
      "0    1201\n",
      "1     799\n",
      "Name: count, dtype: int64\n"
     ]
    }
   ],
   "source": [
    "# for visulization lets check the values distribution\n",
    "for i in df.columns:\n",
    "    print(df[i].value_counts())"
   ]
  },
  {
   "cell_type": "code",
   "execution_count": 11,
   "id": "87a51f41",
   "metadata": {
    "execution": {
     "iopub.execute_input": "2025-09-07T10:22:13.386060Z",
     "iopub.status.busy": "2025-09-07T10:22:13.385751Z",
     "iopub.status.idle": "2025-09-07T10:22:13.391268Z",
     "shell.execute_reply": "2025-09-07T10:22:13.390412Z"
    },
    "papermill": {
     "duration": 0.016277,
     "end_time": "2025-09-07T10:22:13.392896",
     "exception": false,
     "start_time": "2025-09-07T10:22:13.376619",
     "status": "completed"
    },
    "tags": []
   },
   "outputs": [],
   "source": [
    "# lets divide the columns in various category for faster visulization\n",
    "cat_col = [\"smokes\",\"gender\"] \n",
    "count_col = [\"age\",\"height_cm\"]\n",
    "other_col = df.drop(columns = [\"smokes\",\"gender\",\"age\",\"height_cm\",\"is_fit\"])\n"
   ]
  },
  {
   "cell_type": "code",
   "execution_count": 12,
   "id": "3c9bb330",
   "metadata": {
    "execution": {
     "iopub.execute_input": "2025-09-07T10:22:13.410387Z",
     "iopub.status.busy": "2025-09-07T10:22:13.410110Z",
     "iopub.status.idle": "2025-09-07T10:22:13.876559Z",
     "shell.execute_reply": "2025-09-07T10:22:13.875599Z"
    },
    "papermill": {
     "duration": 0.477191,
     "end_time": "2025-09-07T10:22:13.878371",
     "exception": false,
     "start_time": "2025-09-07T10:22:13.401180",
     "status": "completed"
    },
    "tags": []
   },
   "outputs": [
    {
     "data": {
      "image/png": "[encoded data removed]",
      "text/plain": [
       "<Figure size 640x480 with 2 Axes>"
      ]
     },
     "metadata": {},
     "output_type": "display_data"
    }
   ],
   "source": [
    "# count plot for is_fit\n",
    "fig, ax = plt.subplots(1, 2)\n",
    "# Countplot (Seaborn)\n",
    "sns.countplot(x=\"is_fit\", data=df, ax=ax[0])\n",
    "ax[0].set_title(\"Count plot for target feature\")\n",
    "\n",
    "# Pie chart (Matplotlib)\n",
    "counts = df[\"is_fit\"].value_counts()\n",
    "ax[1].pie(counts, labels=counts.index, autopct=\"%1.1f%%\")\n",
    "ax[1].set_title(\"Pie chart for target feature\")\n",
    "\n",
    "plt.tight_layout()\n",
    "plt.show()"
   ]
  },
  {
   "cell_type": "code",
   "execution_count": 13,
   "id": "903f6f46",
   "metadata": {
    "execution": {
     "iopub.execute_input": "2025-09-07T10:22:13.965818Z",
     "iopub.status.busy": "2025-09-07T10:22:13.965468Z",
     "iopub.status.idle": "2025-09-07T10:22:14.437645Z",
     "shell.execute_reply": "2025-09-07T10:22:14.436531Z"
    },
    "papermill": {
     "duration": 0.551397,
     "end_time": "2025-09-07T10:22:14.439272",
     "exception": false,
     "start_time": "2025-09-07T10:22:13.887875",
     "status": "completed"
    },
    "tags": []
   },
   "outputs": [
    {
     "data": {
      "image/png": "[encoded data removed]",
      "text/plain": [
       "<Figure size 640x480 with 2 Axes>"
      ]
     },
     "metadata": {},
     "output_type": "display_data"
    },
    {
     "data": {
      "image/png": "[encoded data removed]",
      "text/plain": [
       "<Figure size 640x480 with 2 Axes>"
      ]
     },
     "metadata": {},
     "output_type": "display_data"
    }
   ],
   "source": [
    "#  smilarlry for cat_col\n",
    "cat_col\n",
    "for i in cat_col:\n",
    "    fig,ax = plt.subplots(1,2)\n",
    "    \n",
    "    \n",
    "    \n",
    "    # PIE CHART FOR CATEGORY DISTRIBUTION\n",
    "    counts = df[i].value_counts()\n",
    "    ax[0].pie(counts, labels=counts.index, autopct=\"%1.1f%%\")\n",
    "    ax[0].set_title(\"distribution  of \"+i)\n",
    "\n",
    "    #  count plot with repect to is_fit\n",
    "    sns.countplot(x=i, data=df, ax=ax[1],hue = \"is_fit\")\n",
    "    ax[1].set_title(\"Count plot for \"+i)\n",
    "    plt.show()\n",
    "    \n",
    "    \n",
    "\n"
   ]
  },
  {
   "cell_type": "code",
   "execution_count": 14,
   "id": "e83a63f2",
   "metadata": {
    "execution": {
     "iopub.execute_input": "2025-09-07T10:22:14.463173Z",
     "iopub.status.busy": "2025-09-07T10:22:14.462858Z",
     "iopub.status.idle": "2025-09-07T10:22:14.606356Z",
     "shell.execute_reply": "2025-09-07T10:22:14.605462Z"
    },
    "papermill": {
     "duration": 0.15799,
     "end_time": "2025-09-07T10:22:14.607910",
     "exception": false,
     "start_time": "2025-09-07T10:22:14.449920",
     "status": "completed"
    },
    "tags": []
   },
   "outputs": [
    {
     "data": {
      "image/png": "[encoded data removed]",
      "text/plain": [
       "<Figure size 640x480 with 1 Axes>"
      ]
     },
     "metadata": {},
     "output_type": "display_data"
    }
   ],
   "source": [
    "#  visulization for smoke with respect to gender\n",
    "sns.countplot(x= \"smokes\",data=df,hue=\"gender\")\n",
    "plt.show()"
   ]
  },
  {
   "cell_type": "code",
   "execution_count": 15,
   "id": "74eaa12a",
   "metadata": {
    "execution": {
     "iopub.execute_input": "2025-09-07T10:22:14.630018Z",
     "iopub.status.busy": "2025-09-07T10:22:14.629698Z",
     "iopub.status.idle": "2025-09-07T10:22:14.633959Z",
     "shell.execute_reply": "2025-09-07T10:22:14.633039Z"
    },
    "papermill": {
     "duration": 0.017464,
     "end_time": "2025-09-07T10:22:14.635765",
     "exception": false,
     "start_time": "2025-09-07T10:22:14.618301",
     "status": "completed"
    },
    "tags": []
   },
   "outputs": [],
   "source": [
    "#OBSERVATION :-   we found that FEMALE smokes MORE "
   ]
  },
  {
   "cell_type": "code",
   "execution_count": 16,
   "id": "736b8350",
   "metadata": {
    "execution": {
     "iopub.execute_input": "2025-09-07T10:22:14.657960Z",
     "iopub.status.busy": "2025-09-07T10:22:14.657630Z",
     "iopub.status.idle": "2025-09-07T10:22:15.979105Z",
     "shell.execute_reply": "2025-09-07T10:22:15.977853Z"
    },
    "papermill": {
     "duration": 1.335212,
     "end_time": "2025-09-07T10:22:15.981333",
     "exception": false,
     "start_time": "2025-09-07T10:22:14.646121",
     "status": "completed"
    },
    "tags": []
   },
   "outputs": [
    {
     "data": {
      "image/png": "[encoded data removed]",
      "text/plain": [
       "<Figure size 1500x800 with 1 Axes>"
      ]
     },
     "metadata": {},
     "output_type": "display_data"
    },
    {
     "data": {
      "image/png": "[encoded data removed]",
      "text/plain": [
       "<Figure size 1500x800 with 1 Axes>"
      ]
     },
     "metadata": {},
     "output_type": "display_data"
    }
   ],
   "source": [
    "# COUNT PLOT \n",
    "for i in count_col:\n",
    "    plt.figure(figsize=(15,8))\n",
    "    sns.countplot(x = i,data=df,hue = \"is_fit\")\n",
    "    plt.title(\"distribution of \"+i)\n",
    "    plt.xticks(rotation = 45)\n",
    "    plt.show()"
   ]
  },
  {
   "cell_type": "code",
   "execution_count": 17,
   "id": "70ff8748",
   "metadata": {
    "execution": {
     "iopub.execute_input": "2025-09-07T10:22:16.010747Z",
     "iopub.status.busy": "2025-09-07T10:22:16.009674Z",
     "iopub.status.idle": "2025-09-07T10:22:16.014389Z",
     "shell.execute_reply": "2025-09-07T10:22:16.013452Z"
    },
    "papermill": {
     "duration": 0.021053,
     "end_time": "2025-09-07T10:22:16.016425",
     "exception": false,
     "start_time": "2025-09-07T10:22:15.995372",
     "status": "completed"
    },
    "tags": []
   },
   "outputs": [],
   "source": [
    "# OBSERVATION\n",
    "#  here we observe that with increase in age the fitsness count started decresing\n",
    "\n",
    "#HEIGHT 165 -170 ARE LESS FIT "
   ]
  },
  {
   "cell_type": "code",
   "execution_count": 18,
   "id": "0c819ae7",
   "metadata": {
    "execution": {
     "iopub.execute_input": "2025-09-07T10:22:16.042129Z",
     "iopub.status.busy": "2025-09-07T10:22:16.041829Z",
     "iopub.status.idle": "2025-09-07T10:22:16.750372Z",
     "shell.execute_reply": "2025-09-07T10:22:16.749474Z"
    },
    "papermill": {
     "duration": 0.723009,
     "end_time": "2025-09-07T10:22:16.751919",
     "exception": false,
     "start_time": "2025-09-07T10:22:16.028910",
     "status": "completed"
    },
    "tags": []
   },
   "outputs": [
    {
     "data": {
      "image/png": "[encoded data removed]",
      "text/plain": [
       "<Figure size 640x480 with 1 Axes>"
      ]
     },
     "metadata": {},
     "output_type": "display_data"
    },
    {
     "data": {
      "image/png": "[encoded data removed]",
      "text/plain": [
       "<Figure size 640x480 with 1 Axes>"
      ]
     },
     "metadata": {},
     "output_type": "display_data"
    },
    {
     "data": {
      "image/png": "[encoded data removed]",
      "text/plain": [
       "<Figure size 640x480 with 1 Axes>"
      ]
     },
     "metadata": {},
     "output_type": "display_data"
    },
    {
     "data": {
      "image/png": "[encoded data removed]",
      "text/plain": [
       "<Figure size 640x480 with 1 Axes>"
      ]
     },
     "metadata": {},
     "output_type": "display_data"
    },
    {
     "data": {
      "image/png": "[encoded data removed]",
      "text/plain": [
       "<Figure size 640x480 with 1 Axes>"
      ]
     },
     "metadata": {},
     "output_type": "display_data"
    },
    {
     "data": {
      "image/png": "[encoded data removed]",
      "text/plain": [
       "<Figure size 640x480 with 1 Axes>"
      ]
     },
     "metadata": {},
     "output_type": "display_data"
    }
   ],
   "source": [
    "# FOR OTHER_COL\n",
    "for i in other_col:\n",
    "    sns.boxplot(x=i, data=df, palette=\"Set2\")\n",
    "    plt.title(f\"boxvplot for {i}\")\n",
    "    plt.show()"
   ]
  },
  {
   "cell_type": "code",
   "execution_count": 19,
   "id": "70909afa",
   "metadata": {
    "execution": {
     "iopub.execute_input": "2025-09-07T10:22:16.782202Z",
     "iopub.status.busy": "2025-09-07T10:22:16.781391Z",
     "iopub.status.idle": "2025-09-07T10:22:16.785909Z",
     "shell.execute_reply": "2025-09-07T10:22:16.784919Z"
    },
    "papermill": {
     "duration": 0.020638,
     "end_time": "2025-09-07T10:22:16.787429",
     "exception": false,
     "start_time": "2025-09-07T10:22:16.766791",
     "status": "completed"
    },
    "tags": []
   },
   "outputs": [],
   "source": [
    "# OBSERVATION :\n",
    "# WE OBSERVE THAT MANY FEATURES HAVE OUTLIER WHICH MAY DECERSE THE STRENGTH OF OUR MODEL \n",
    "#  SO TRIM/CAP THESE OUTLIER\n",
    "out_col = [\"weight_kg\",\"heart_rate\",\"blood_pressure\",\"sleep_hours\"]"
   ]
  },
  {
   "cell_type": "code",
   "execution_count": 20,
   "id": "223fadb4",
   "metadata": {
    "execution": {
     "iopub.execute_input": "2025-09-07T10:22:16.816309Z",
     "iopub.status.busy": "2025-09-07T10:22:16.816017Z",
     "iopub.status.idle": "2025-09-07T10:22:16.833226Z",
     "shell.execute_reply": "2025-09-07T10:22:16.832396Z"
    },
    "papermill": {
     "duration": 0.03329,
     "end_time": "2025-09-07T10:22:16.834922",
     "exception": false,
     "start_time": "2025-09-07T10:22:16.801632",
     "status": "completed"
    },
    "tags": []
   },
   "outputs": [],
   "source": [
    "# WE USE CAPPING AS THESE DATAPOINTS ARE CRUCIEL\n",
    "\n",
    "out_col = [\"weight_kg\",\"heart_rate\",\"blood_pressure\",\"sleep_hours\"]\n",
    "for col in out_col:\n",
    "    lower_cap = df[col].quantile(0.01)\n",
    "    upper_cap = df[col].quantile(0.99)\n",
    "    df[col] = df[col].clip(lower=lower_cap, upper=upper_cap)\n",
    "\n"
   ]
  },
  {
   "cell_type": "code",
   "execution_count": 21,
   "id": "c3ea4d13",
   "metadata": {
    "execution": {
     "iopub.execute_input": "2025-09-07T10:22:16.864448Z",
     "iopub.status.busy": "2025-09-07T10:22:16.864135Z",
     "iopub.status.idle": "2025-09-07T10:22:16.881964Z",
     "shell.execute_reply": "2025-09-07T10:22:16.881107Z"
    },
    "papermill": {
     "duration": 0.034379,
     "end_time": "2025-09-07T10:22:16.883620",
     "exception": false,
     "start_time": "2025-09-07T10:22:16.849241",
     "status": "completed"
    },
    "tags": []
   },
   "outputs": [],
   "source": [
    "# WE ALSO HAVE TO UPDATE IN OUR df_final FOR BETTER MODELLING\n",
    "out_col = [\"weight_kg\",\"heart_rate\",\"blood_pressure\",\"sleep_hours\"]\n",
    "for col in out_col:\n",
    "    lower_cap = df_final[col].quantile(0.01)\n",
    "    upper_cap = df_final[col].quantile(0.99)\n",
    "    df_final[col] = df_final[col].clip(lower=lower_cap, upper=upper_cap)"
   ]
  },
  {
   "cell_type": "code",
   "execution_count": 22,
   "id": "01dc50e1",
   "metadata": {
    "execution": {
     "iopub.execute_input": "2025-09-07T10:22:16.911929Z",
     "iopub.status.busy": "2025-09-07T10:22:16.911644Z",
     "iopub.status.idle": "2025-09-07T10:22:17.538456Z",
     "shell.execute_reply": "2025-09-07T10:22:17.537307Z"
    },
    "papermill": {
     "duration": 0.643321,
     "end_time": "2025-09-07T10:22:17.540579",
     "exception": false,
     "start_time": "2025-09-07T10:22:16.897258",
     "status": "completed"
    },
    "tags": []
   },
   "outputs": [
    {
     "data": {
      "image/png": "[encoded data removed]",
      "text/plain": [
       "<Figure size 640x480 with 1 Axes>"
      ]
     },
     "metadata": {},
     "output_type": "display_data"
    },
    {
     "data": {
      "image/png": "[encoded data removed]",
      "text/plain": [
       "<Figure size 640x480 with 1 Axes>"
      ]
     },
     "metadata": {},
     "output_type": "display_data"
    },
    {
     "data": {
      "image/png": "[encoded data removed]",
      "text/plain": [
       "<Figure size 640x480 with 1 Axes>"
      ]
     },
     "metadata": {},
     "output_type": "display_data"
    },
    {
     "data": {
      "image/png": "[encoded data removed]",
      "text/plain": [
       "<Figure size 640x480 with 1 Axes>"
      ]
     },
     "metadata": {},
     "output_type": "display_data"
    }
   ],
   "source": [
    "# boxplot after capping\n",
    "for i in out_col:\n",
    "    sns.boxplot(x=i, data=df, palette=\"Set2\")\n",
    "    plt.title(f\"boxvplot for {i}\")\n",
    "    plt.show()"
   ]
  },
  {
   "cell_type": "code",
   "execution_count": 23,
   "id": "af66638f",
   "metadata": {
    "execution": {
     "iopub.execute_input": "2025-09-07T10:22:17.575465Z",
     "iopub.status.busy": "2025-09-07T10:22:17.575094Z",
     "iopub.status.idle": "2025-09-07T10:22:17.583061Z",
     "shell.execute_reply": "2025-09-07T10:22:17.581463Z"
    },
    "papermill": {
     "duration": 0.027013,
     "end_time": "2025-09-07T10:22:17.585054",
     "exception": false,
     "start_time": "2025-09-07T10:22:17.558041",
     "status": "completed"
    },
    "tags": []
   },
   "outputs": [
    {
     "name": "stdout",
     "output_type": "stream",
     "text": [
      "200\n",
      "200.0\n"
     ]
    }
   ],
   "source": [
    "print(df[\"weight_kg\"].max())                     # actual max\n",
    "print(df[\"weight_kg\"].quantile(0.99))           # 99th percentile\n"
   ]
  },
  {
   "cell_type": "code",
   "execution_count": 24,
   "id": "4cf6dc8e",
   "metadata": {
    "execution": {
     "iopub.execute_input": "2025-09-07T10:22:17.619139Z",
     "iopub.status.busy": "2025-09-07T10:22:17.618047Z",
     "iopub.status.idle": "2025-09-07T10:22:17.623160Z",
     "shell.execute_reply": "2025-09-07T10:22:17.622042Z"
    },
    "papermill": {
     "duration": 0.023665,
     "end_time": "2025-09-07T10:22:17.624996",
     "exception": false,
     "start_time": "2025-09-07T10:22:17.601331",
     "status": "completed"
    },
    "tags": []
   },
   "outputs": [],
   "source": [
    "# OBSERVATION\n",
    "# WE DONNOT CAP WEIGHT = 200 BECAUSE THIS WEIGHT IS IMPORTANT AND MANY CASE HAVE THIS VALUE OF WEIGHT"
   ]
  },
  {
   "cell_type": "markdown",
   "id": "3d24f5e8",
   "metadata": {
    "papermill": {
     "duration": 0.014596,
     "end_time": "2025-09-07T10:22:17.654685",
     "exception": false,
     "start_time": "2025-09-07T10:22:17.640089",
     "status": "completed"
    },
    "tags": []
   },
   "source": [
    "## MODELLING"
   ]
  },
  {
   "cell_type": "code",
   "execution_count": 25,
   "id": "72f9988d",
   "metadata": {
    "execution": {
     "iopub.execute_input": "2025-09-07T10:22:17.687012Z",
     "iopub.status.busy": "2025-09-07T10:22:17.686660Z",
     "iopub.status.idle": "2025-09-07T10:22:18.044804Z",
     "shell.execute_reply": "2025-09-07T10:22:18.043504Z"
    },
    "papermill": {
     "duration": 0.377471,
     "end_time": "2025-09-07T10:22:18.046894",
     "exception": false,
     "start_time": "2025-09-07T10:22:17.669423",
     "status": "completed"
    },
    "tags": []
   },
   "outputs": [],
   "source": [
    "#  WE CHECK EVERY MODEL FOT THIS CLASSFICATION\n",
    "# we use our df_final BECAUSE WE PERFROM FEATURE ENG AND GET OUR FINAL OUTPUT\n",
    "from sklearn.model_selection import train_test_split\n",
    "from sklearn.preprocessing import StandardScaler\n",
    "xtrain,xtest,ytrain,ytest = train_test_split(df_final.drop(columns = \"is_fit\"),df[\"is_fit\"],test_size = 0.2,random_state = 1)\n",
    "scaler = StandardScaler()\n",
    "xtrainsc = scaler.fit_transform(xtrain)\n",
    "xtestsc = scaler.transform(xtest)"
   ]
  },
  {
   "cell_type": "code",
   "execution_count": 26,
   "id": "ad4b80d7",
   "metadata": {
    "execution": {
     "iopub.execute_input": "2025-09-07T10:22:18.078679Z",
     "iopub.status.busy": "2025-09-07T10:22:18.077503Z",
     "iopub.status.idle": "2025-09-07T10:22:18.500538Z",
     "shell.execute_reply": "2025-09-07T10:22:18.499476Z"
    },
    "papermill": {
     "duration": 0.440864,
     "end_time": "2025-09-07T10:22:18.502300",
     "exception": false,
     "start_time": "2025-09-07T10:22:18.061436",
     "status": "completed"
    },
    "tags": []
   },
   "outputs": [],
   "source": [
    "# calling our model\n",
    "from sklearn.linear_model import LogisticRegression\n",
    "from sklearn.tree import DecisionTreeClassifier\n",
    "from sklearn.ensemble import RandomForestClassifier,AdaBoostClassifier,BaggingClassifier,VotingClassifier\n",
    "from sklearn.neighbors import KNeighborsClassifier\n",
    "logr = LogisticRegression(n_jobs = -1)\n",
    "tree = DecisionTreeClassifier()\n",
    "forest = RandomForestClassifier(n_jobs = -1)\n",
    "adboost =AdaBoostClassifier()\n",
    "bag = BaggingClassifier(n_jobs = -1)\n",
    "vote = VotingClassifier(estimators = [\n",
    "    (\"logr\", LogisticRegression(max_iter=1000)),\n",
    "    (\"tree\", DecisionTreeClassifier()),\n",
    "    (\"knn\", KNeighborsClassifier())\n",
    "])\n",
    "knn = KNeighborsClassifier(n_jobs = -1)"
   ]
  },
  {
   "cell_type": "code",
   "execution_count": 27,
   "id": "6844aca8",
   "metadata": {
    "execution": {
     "iopub.execute_input": "2025-09-07T10:22:18.534745Z",
     "iopub.status.busy": "2025-09-07T10:22:18.533961Z",
     "iopub.status.idle": "2025-09-07T10:22:21.210692Z",
     "shell.execute_reply": "2025-09-07T10:22:21.208637Z"
    },
    "papermill": {
     "duration": 2.695508,
     "end_time": "2025-09-07T10:22:21.212550",
     "exception": false,
     "start_time": "2025-09-07T10:22:18.517042",
     "status": "completed"
    },
    "tags": []
   },
   "outputs": [
    {
     "data": {
      "text/html": [
       "<style>#sk-container-id-1 {color: black;background-color: white;}#sk-container-id-1 pre{padding: 0;}#sk-container-id-1 div.sk-toggleable {background-color: white;}#sk-container-id-1 label.sk-toggleable__label {cursor: pointer;display: block;width: 100%;margin-bottom: 0;padding: 0.3em;box-sizing: border-box;text-align: center;}#sk-container-id-1 label.sk-toggleable__label-arrow:before {content: \"▸\";float: left;margin-right: 0.25em;color: #696969;}#sk-container-id-1 label.sk-toggleable__label-arrow:hover:before {color: black;}#sk-container-id-1 div.sk-estimator:hover label.sk-toggleable__label-arrow:before {color: black;}#sk-container-id-1 div.sk-toggleable__content {max-height: 0;max-width: 0;overflow: hidden;text-align: left;background-color: #f0f8ff;}#sk-container-id-1 div.sk-toggleable__content pre {margin: 0.2em;color: black;border-radius: 0.25em;background-color: #f0f8ff;}#sk-container-id-1 input.sk-toggleable__control:checked~div.sk-toggleable__content {max-height: 200px;max-width: 100%;overflow: auto;}#sk-container-id-1 input.sk-toggleable__control:checked~label.sk-toggleable__label-arrow:before {content: \"▾\";}#sk-container-id-1 div.sk-estimator input.sk-toggleable__control:checked~label.sk-toggleable__label {background-color: #d4ebff;}#sk-container-id-1 div.sk-label input.sk-toggleable__control:checked~label.sk-toggleable__label {background-color: #d4ebff;}#sk-container-id-1 input.sk-hidden--visually {border: 0;clip: rect(1px 1px 1px 1px);clip: rect(1px, 1px, 1px, 1px);height: 1px;margin: -1px;overflow: hidden;padding: 0;position: absolute;width: 1px;}#sk-container-id-1 div.sk-estimator {font-family: monospace;background-color: #f0f8ff;border: 1px dotted black;border-radius: 0.25em;box-sizing: border-box;margin-bottom: 0.5em;}#sk-container-id-1 div.sk-estimator:hover {background-color: #d4ebff;}#sk-container-id-1 div.sk-parallel-item::after {content: \"\";width: 100%;border-bottom: 1px solid gray;flex-grow: 1;}#sk-container-id-1 div.sk-label:hover label.sk-toggleable__label {background-color: #d4ebff;}#sk-container-id-1 div.sk-serial::before {content: \"\";position: absolute;border-left: 1px solid gray;box-sizing: border-box;top: 0;bottom: 0;left: 50%;z-index: 0;}#sk-container-id-1 div.sk-serial {display: flex;flex-direction: column;align-items: center;background-color: white;padding-right: 0.2em;padding-left: 0.2em;position: relative;}#sk-container-id-1 div.sk-item {position: relative;z-index: 1;}#sk-container-id-1 div.sk-parallel {display: flex;align-items: stretch;justify-content: center;background-color: white;position: relative;}#sk-container-id-1 div.sk-item::before, #sk-container-id-1 div.sk-parallel-item::before {content: \"\";position: absolute;border-left: 1px solid gray;box-sizing: border-box;top: 0;bottom: 0;left: 50%;z-index: -1;}#sk-container-id-1 div.sk-parallel-item {display: flex;flex-direction: column;z-index: 1;position: relative;background-color: white;}#sk-container-id-1 div.sk-parallel-item:first-child::after {align-self: flex-end;width: 50%;}#sk-container-id-1 div.sk-parallel-item:last-child::after {align-self: flex-start;width: 50%;}#sk-container-id-1 div.sk-parallel-item:only-child::after {width: 0;}#sk-container-id-1 div.sk-dashed-wrapped {border: 1px dashed gray;margin: 0 0.4em 0.5em 0.4em;box-sizing: border-box;padding-bottom: 0.4em;background-color: white;}#sk-container-id-1 div.sk-label label {font-family: monospace;font-weight: bold;display: inline-block;line-height: 1.2em;}#sk-container-id-1 div.sk-label-container {text-align: center;}#sk-container-id-1 div.sk-container {/* jupyter's `normalize.less` sets `[hidden] { display: none; }` but bootstrap.min.css set `[hidden] { display: none !important; }` so we also need the `!important` here to be able to override the default hidden behavior on the sphinx rendered scikit-learn.org. See: https://github.com/scikit-learn/scikit-learn/issues/21755 */display: inline-block !important;position: relative;}#sk-container-id-1 div.sk-text-repr-fallback {display: none;}</style><div id=\"sk-container-id-1\" class=\"sk-top-container\"><div class=\"sk-text-repr-fallback\"><pre>KNeighborsClassifier(n_jobs=-1)</pre><b>In a Jupyter environment, please rerun this cell to show the HTML representation or trust the notebook. <br />On GitHub, the HTML representation is unable to render, please try loading this page with nbviewer.org.</b></div><div class=\"sk-container\" hidden><div class=\"sk-item\"><div class=\"sk-estimator sk-toggleable\"><input class=\"sk-toggleable__control sk-hidden--visually\" id=\"sk-estimator-id-1\" type=\"checkbox\" checked><label for=\"sk-estimator-id-1\" class=\"sk-toggleable__label sk-toggleable__label-arrow\">KNeighborsClassifier</label><div class=\"sk-toggleable__content\"><pre>KNeighborsClassifier(n_jobs=-1)</pre></div></div></div></div></div>"
      ],
      "text/plain": [
       "KNeighborsClassifier(n_jobs=-1)"
      ]
     },
     "execution_count": 27,
     "metadata": {},
     "output_type": "execute_result"
    }
   ],
   "source": [
    "# lets start train our model\n",
    "logr.fit(xtrainsc,ytrain)\n",
    "tree.fit(xtrainsc,ytrain)\n",
    "forest.fit(xtrainsc,ytrain)\n",
    "adboost.fit(xtrainsc,ytrain)\n",
    "bag.fit(xtrainsc,ytrain)\n",
    "vote.fit(xtrainsc,ytrain)\n",
    "knn.fit(xtrainsc,ytrain)\n"
   ]
  },
  {
   "cell_type": "code",
   "execution_count": 28,
   "id": "03e15452",
   "metadata": {
    "execution": {
     "iopub.execute_input": "2025-09-07T10:22:21.262880Z",
     "iopub.status.busy": "2025-09-07T10:22:21.262543Z",
     "iopub.status.idle": "2025-09-07T10:22:21.423109Z",
     "shell.execute_reply": "2025-09-07T10:22:21.422147Z"
    },
    "papermill": {
     "duration": 0.18749,
     "end_time": "2025-09-07T10:22:21.424774",
     "exception": false,
     "start_time": "2025-09-07T10:22:21.237284",
     "status": "completed"
    },
    "tags": []
   },
   "outputs": [
    {
     "name": "stdout",
     "output_type": "stream",
     "text": [
      "accuracy score for LogisticRegression(n_jobs=-1) is  0.8125\n",
      "accuracy score for DecisionTreeClassifier() is  0.68\n",
      "accuracy score for RandomForestClassifier(n_jobs=-1) is  0.79\n",
      "accuracy score for AdaBoostClassifier() is  0.75\n",
      "accuracy score for BaggingClassifier(n_jobs=-1) is  0.77\n",
      "accuracy score for VotingClassifier(estimators=[('logr', LogisticRegression(max_iter=1000)),\n",
      "                             ('tree', DecisionTreeClassifier()),\n",
      "                             ('knn', KNeighborsClassifier())]) is  0.7975\n",
      "accuracy score for KNeighborsClassifier(n_jobs=-1) is  0.765\n"
     ]
    }
   ],
   "source": [
    "# lets calculate the accuracy\n",
    "# we use accracy score as our data is not unbalanced\n",
    "from sklearn.metrics import accuracy_score\n",
    "\n",
    "models = [logr, tree, forest, adboost, bag, vote, knn]\n",
    "for i in models :\n",
    "    print(f\"accuracy score for { i } is \",accuracy_score(ytest,i.predict(xtestsc)))\n",
    "    \n"
   ]
  },
  {
   "cell_type": "code",
   "execution_count": 29,
   "id": "380e722b",
   "metadata": {
    "execution": {
     "iopub.execute_input": "2025-09-07T10:22:21.456687Z",
     "iopub.status.busy": "2025-09-07T10:22:21.456321Z",
     "iopub.status.idle": "2025-09-07T10:22:21.460391Z",
     "shell.execute_reply": "2025-09-07T10:22:21.459441Z"
    },
    "papermill": {
     "duration": 0.022311,
     "end_time": "2025-09-07T10:22:21.462225",
     "exception": false,
     "start_time": "2025-09-07T10:22:21.439914",
     "status": "completed"
    },
    "tags": []
   },
   "outputs": [],
   "source": [
    "# OBSERVATION \n",
    "# LOGISTIC REGRESION PERFORM BEST IN NORMAL TUNNING AND ATTENS ACCURACY SCORE OF 0.81"
   ]
  },
  {
   "cell_type": "markdown",
   "id": "820cd52f",
   "metadata": {
    "papermill": {
     "duration": 0.015555,
     "end_time": "2025-09-07T10:22:21.493967",
     "exception": false,
     "start_time": "2025-09-07T10:22:21.478412",
     "status": "completed"
    },
    "tags": []
   },
   "source": [
    "## MODEL TUNNING\n"
   ]
  },
  {
   "cell_type": "code",
   "execution_count": 30,
   "id": "0bd326ca",
   "metadata": {
    "execution": {
     "iopub.execute_input": "2025-09-07T10:22:21.525489Z",
     "iopub.status.busy": "2025-09-07T10:22:21.525174Z",
     "iopub.status.idle": "2025-09-07T10:23:16.872554Z",
     "shell.execute_reply": "2025-09-07T10:23:16.871359Z"
    },
    "papermill": {
     "duration": 55.365037,
     "end_time": "2025-09-07T10:23:16.874011",
     "exception": false,
     "start_time": "2025-09-07T10:22:21.508974",
     "status": "completed"
    },
    "tags": []
   },
   "outputs": [
    {
     "name": "stderr",
     "output_type": "stream",
     "text": [
      "/usr/local/lib/python3.11/dist-packages/sklearn/ensemble/_forest.py:583: UserWarning: Some inputs do not have OOB scores. This probably means too few trees were used to compute any reliable OOB estimates.\n",
      "  warn(\n"
     ]
    },
    {
     "name": "stdout",
     "output_type": "stream",
     "text": [
      "{'max_depth': 5, 'n_estimators': 50, 'oob_score': True}\n",
      "0.7718857525653909\n"
     ]
    }
   ],
   "source": [
    "from sklearn.model_selection import GridSearchCV\n",
    "#                          FOR        ================= RANDOM FOREST =====================================\n",
    "\n",
    "paramgrid = {\n",
    "    \"n_estimators\" : [20,50,70,100,200,500,1000],\n",
    "    \"max_depth\" :[2,5,10,15,],\n",
    "    \"oob_score\":[True,False]\n",
    "    \n",
    "}\n",
    "grid = GridSearchCV(estimator = RandomForestClassifier(),param_grid =paramgrid,cv=3,n_jobs =-1)\n",
    "grid.fit(xtrainsc,ytrain)\n",
    "\n",
    "print(grid.best_params_)\n",
    "print(grid.best_score_)"
   ]
  },
  {
   "cell_type": "code",
   "execution_count": 31,
   "id": "f69b4473",
   "metadata": {
    "execution": {
     "iopub.execute_input": "2025-09-07T10:23:16.906588Z",
     "iopub.status.busy": "2025-09-07T10:23:16.906205Z",
     "iopub.status.idle": "2025-09-07T10:23:17.136011Z",
     "shell.execute_reply": "2025-09-07T10:23:17.134999Z"
    },
    "papermill": {
     "duration": 0.247316,
     "end_time": "2025-09-07T10:23:17.137483",
     "exception": false,
     "start_time": "2025-09-07T10:23:16.890167",
     "status": "completed"
    },
    "tags": []
   },
   "outputs": [
    {
     "data": {
      "text/html": [
       "<style>#sk-container-id-2 {color: black;background-color: white;}#sk-container-id-2 pre{padding: 0;}#sk-container-id-2 div.sk-toggleable {background-color: white;}#sk-container-id-2 label.sk-toggleable__label {cursor: pointer;display: block;width: 100%;margin-bottom: 0;padding: 0.3em;box-sizing: border-box;text-align: center;}#sk-container-id-2 label.sk-toggleable__label-arrow:before {content: \"▸\";float: left;margin-right: 0.25em;color: #696969;}#sk-container-id-2 label.sk-toggleable__label-arrow:hover:before {color: black;}#sk-container-id-2 div.sk-estimator:hover label.sk-toggleable__label-arrow:before {color: black;}#sk-container-id-2 div.sk-toggleable__content {max-height: 0;max-width: 0;overflow: hidden;text-align: left;background-color: #f0f8ff;}#sk-container-id-2 div.sk-toggleable__content pre {margin: 0.2em;color: black;border-radius: 0.25em;background-color: #f0f8ff;}#sk-container-id-2 input.sk-toggleable__control:checked~div.sk-toggleable__content {max-height: 200px;max-width: 100%;overflow: auto;}#sk-container-id-2 input.sk-toggleable__control:checked~label.sk-toggleable__label-arrow:before {content: \"▾\";}#sk-container-id-2 div.sk-estimator input.sk-toggleable__control:checked~label.sk-toggleable__label {background-color: #d4ebff;}#sk-container-id-2 div.sk-label input.sk-toggleable__control:checked~label.sk-toggleable__label {background-color: #d4ebff;}#sk-container-id-2 input.sk-hidden--visually {border: 0;clip: rect(1px 1px 1px 1px);clip: rect(1px, 1px, 1px, 1px);height: 1px;margin: -1px;overflow: hidden;padding: 0;position: absolute;width: 1px;}#sk-container-id-2 div.sk-estimator {font-family: monospace;background-color: #f0f8ff;border: 1px dotted black;border-radius: 0.25em;box-sizing: border-box;margin-bottom: 0.5em;}#sk-container-id-2 div.sk-estimator:hover {background-color: #d4ebff;}#sk-container-id-2 div.sk-parallel-item::after {content: \"\";width: 100%;border-bottom: 1px solid gray;flex-grow: 1;}#sk-container-id-2 div.sk-label:hover label.sk-toggleable__label {background-color: #d4ebff;}#sk-container-id-2 div.sk-serial::before {content: \"\";position: absolute;border-left: 1px solid gray;box-sizing: border-box;top: 0;bottom: 0;left: 50%;z-index: 0;}#sk-container-id-2 div.sk-serial {display: flex;flex-direction: column;align-items: center;background-color: white;padding-right: 0.2em;padding-left: 0.2em;position: relative;}#sk-container-id-2 div.sk-item {position: relative;z-index: 1;}#sk-container-id-2 div.sk-parallel {display: flex;align-items: stretch;justify-content: center;background-color: white;position: relative;}#sk-container-id-2 div.sk-item::before, #sk-container-id-2 div.sk-parallel-item::before {content: \"\";position: absolute;border-left: 1px solid gray;box-sizing: border-box;top: 0;bottom: 0;left: 50%;z-index: -1;}#sk-container-id-2 div.sk-parallel-item {display: flex;flex-direction: column;z-index: 1;position: relative;background-color: white;}#sk-container-id-2 div.sk-parallel-item:first-child::after {align-self: flex-end;width: 50%;}#sk-container-id-2 div.sk-parallel-item:last-child::after {align-self: flex-start;width: 50%;}#sk-container-id-2 div.sk-parallel-item:only-child::after {width: 0;}#sk-container-id-2 div.sk-dashed-wrapped {border: 1px dashed gray;margin: 0 0.4em 0.5em 0.4em;box-sizing: border-box;padding-bottom: 0.4em;background-color: white;}#sk-container-id-2 div.sk-label label {font-family: monospace;font-weight: bold;display: inline-block;line-height: 1.2em;}#sk-container-id-2 div.sk-label-container {text-align: center;}#sk-container-id-2 div.sk-container {/* jupyter's `normalize.less` sets `[hidden] { display: none; }` but bootstrap.min.css set `[hidden] { display: none !important; }` so we also need the `!important` here to be able to override the default hidden behavior on the sphinx rendered scikit-learn.org. See: https://github.com/scikit-learn/scikit-learn/issues/21755 */display: inline-block !important;position: relative;}#sk-container-id-2 div.sk-text-repr-fallback {display: none;}</style><div id=\"sk-container-id-2\" class=\"sk-top-container\"><div class=\"sk-text-repr-fallback\"><pre>RandomForestClassifier(max_depth=5, n_estimators=70, oob_score=True)</pre><b>In a Jupyter environment, please rerun this cell to show the HTML representation or trust the notebook. <br />On GitHub, the HTML representation is unable to render, please try loading this page with nbviewer.org.</b></div><div class=\"sk-container\" hidden><div class=\"sk-item\"><div class=\"sk-estimator sk-toggleable\"><input class=\"sk-toggleable__control sk-hidden--visually\" id=\"sk-estimator-id-2\" type=\"checkbox\" checked><label for=\"sk-estimator-id-2\" class=\"sk-toggleable__label sk-toggleable__label-arrow\">RandomForestClassifier</label><div class=\"sk-toggleable__content\"><pre>RandomForestClassifier(max_depth=5, n_estimators=70, oob_score=True)</pre></div></div></div></div></div>"
      ],
      "text/plain": [
       "RandomForestClassifier(max_depth=5, n_estimators=70, oob_score=True)"
      ]
     },
     "execution_count": 31,
     "metadata": {},
     "output_type": "execute_result"
    }
   ],
   "source": [
    "forest_tun = RandomForestClassifier(max_depth=5,n_estimators=70,oob_score=True)\n",
    "forest_tun.fit(xtrainsc,ytrain)"
   ]
  },
  {
   "cell_type": "code",
   "execution_count": null,
   "id": "3112107e",
   "metadata": {
    "papermill": {
     "duration": 0.014593,
     "end_time": "2025-09-07T10:23:17.167341",
     "exception": false,
     "start_time": "2025-09-07T10:23:17.152748",
     "status": "completed"
    },
    "tags": []
   },
   "outputs": [],
   "source": []
  },
  {
   "cell_type": "code",
   "execution_count": 32,
   "id": "8a4270ae",
   "metadata": {
    "execution": {
     "iopub.execute_input": "2025-09-07T10:23:17.200020Z",
     "iopub.status.busy": "2025-09-07T10:23:17.199717Z",
     "iopub.status.idle": "2025-09-07T10:23:35.527192Z",
     "shell.execute_reply": "2025-09-07T10:23:35.526192Z"
    },
    "papermill": {
     "duration": 18.346309,
     "end_time": "2025-09-07T10:23:35.529016",
     "exception": false,
     "start_time": "2025-09-07T10:23:17.182707",
     "status": "completed"
    },
    "tags": []
   },
   "outputs": [
    {
     "name": "stdout",
     "output_type": "stream",
     "text": [
      "{'learning_rate': 0.1, 'n_estimators': 200}\n",
      "0.7837552964985138\n"
     ]
    }
   ],
   "source": [
    "# for        ==========================ADABOOST=============================\n",
    "\n",
    "\n",
    "paramgrid = {\n",
    "    \"n_estimators\" : [100,200,500,1000],\n",
    "    \"learning_rate\":[1.0,0.1,0.01]\n",
    "    \n",
    "    \n",
    "}\n",
    "grid_adaboost = GridSearchCV(estimator = AdaBoostClassifier(random_state =1),param_grid = paramgrid,cv = 3,n_jobs=-1)\n",
    "grid_adaboost.fit(xtrainsc,ytrain)\n",
    "\n",
    "print(grid_adaboost.best_params_)\n",
    "print(grid_adaboost.best_score_)"
   ]
  },
  {
   "cell_type": "code",
   "execution_count": 33,
   "id": "6543ccf1",
   "metadata": {
    "execution": {
     "iopub.execute_input": "2025-09-07T10:23:35.563233Z",
     "iopub.status.busy": "2025-09-07T10:23:35.562902Z",
     "iopub.status.idle": "2025-09-07T10:23:36.184174Z",
     "shell.execute_reply": "2025-09-07T10:23:36.183185Z"
    },
    "papermill": {
     "duration": 0.641184,
     "end_time": "2025-09-07T10:23:36.186055",
     "exception": false,
     "start_time": "2025-09-07T10:23:35.544871",
     "status": "completed"
    },
    "tags": []
   },
   "outputs": [
    {
     "data": {
      "text/html": [
       "<style>#sk-container-id-3 {color: black;background-color: white;}#sk-container-id-3 pre{padding: 0;}#sk-container-id-3 div.sk-toggleable {background-color: white;}#sk-container-id-3 label.sk-toggleable__label {cursor: pointer;display: block;width: 100%;margin-bottom: 0;padding: 0.3em;box-sizing: border-box;text-align: center;}#sk-container-id-3 label.sk-toggleable__label-arrow:before {content: \"▸\";float: left;margin-right: 0.25em;color: #696969;}#sk-container-id-3 label.sk-toggleable__label-arrow:hover:before {color: black;}#sk-container-id-3 div.sk-estimator:hover label.sk-toggleable__label-arrow:before {color: black;}#sk-container-id-3 div.sk-toggleable__content {max-height: 0;max-width: 0;overflow: hidden;text-align: left;background-color: #f0f8ff;}#sk-container-id-3 div.sk-toggleable__content pre {margin: 0.2em;color: black;border-radius: 0.25em;background-color: #f0f8ff;}#sk-container-id-3 input.sk-toggleable__control:checked~div.sk-toggleable__content {max-height: 200px;max-width: 100%;overflow: auto;}#sk-container-id-3 input.sk-toggleable__control:checked~label.sk-toggleable__label-arrow:before {content: \"▾\";}#sk-container-id-3 div.sk-estimator input.sk-toggleable__control:checked~label.sk-toggleable__label {background-color: #d4ebff;}#sk-container-id-3 div.sk-label input.sk-toggleable__control:checked~label.sk-toggleable__label {background-color: #d4ebff;}#sk-container-id-3 input.sk-hidden--visually {border: 0;clip: rect(1px 1px 1px 1px);clip: rect(1px, 1px, 1px, 1px);height: 1px;margin: -1px;overflow: hidden;padding: 0;position: absolute;width: 1px;}#sk-container-id-3 div.sk-estimator {font-family: monospace;background-color: #f0f8ff;border: 1px dotted black;border-radius: 0.25em;box-sizing: border-box;margin-bottom: 0.5em;}#sk-container-id-3 div.sk-estimator:hover {background-color: #d4ebff;}#sk-container-id-3 div.sk-parallel-item::after {content: \"\";width: 100%;border-bottom: 1px solid gray;flex-grow: 1;}#sk-container-id-3 div.sk-label:hover label.sk-toggleable__label {background-color: #d4ebff;}#sk-container-id-3 div.sk-serial::before {content: \"\";position: absolute;border-left: 1px solid gray;box-sizing: border-box;top: 0;bottom: 0;left: 50%;z-index: 0;}#sk-container-id-3 div.sk-serial {display: flex;flex-direction: column;align-items: center;background-color: white;padding-right: 0.2em;padding-left: 0.2em;position: relative;}#sk-container-id-3 div.sk-item {position: relative;z-index: 1;}#sk-container-id-3 div.sk-parallel {display: flex;align-items: stretch;justify-content: center;background-color: white;position: relative;}#sk-container-id-3 div.sk-item::before, #sk-container-id-3 div.sk-parallel-item::before {content: \"\";position: absolute;border-left: 1px solid gray;box-sizing: border-box;top: 0;bottom: 0;left: 50%;z-index: -1;}#sk-container-id-3 div.sk-parallel-item {display: flex;flex-direction: column;z-index: 1;position: relative;background-color: white;}#sk-container-id-3 div.sk-parallel-item:first-child::after {align-self: flex-end;width: 50%;}#sk-container-id-3 div.sk-parallel-item:last-child::after {align-self: flex-start;width: 50%;}#sk-container-id-3 div.sk-parallel-item:only-child::after {width: 0;}#sk-container-id-3 div.sk-dashed-wrapped {border: 1px dashed gray;margin: 0 0.4em 0.5em 0.4em;box-sizing: border-box;padding-bottom: 0.4em;background-color: white;}#sk-container-id-3 div.sk-label label {font-family: monospace;font-weight: bold;display: inline-block;line-height: 1.2em;}#sk-container-id-3 div.sk-label-container {text-align: center;}#sk-container-id-3 div.sk-container {/* jupyter's `normalize.less` sets `[hidden] { display: none; }` but bootstrap.min.css set `[hidden] { display: none !important; }` so we also need the `!important` here to be able to override the default hidden behavior on the sphinx rendered scikit-learn.org. See: https://github.com/scikit-learn/scikit-learn/issues/21755 */display: inline-block !important;position: relative;}#sk-container-id-3 div.sk-text-repr-fallback {display: none;}</style><div id=\"sk-container-id-3\" class=\"sk-top-container\"><div class=\"sk-text-repr-fallback\"><pre>AdaBoostClassifier(learning_rate=0.1, n_estimators=200)</pre><b>In a Jupyter environment, please rerun this cell to show the HTML representation or trust the notebook. <br />On GitHub, the HTML representation is unable to render, please try loading this page with nbviewer.org.</b></div><div class=\"sk-container\" hidden><div class=\"sk-item\"><div class=\"sk-estimator sk-toggleable\"><input class=\"sk-toggleable__control sk-hidden--visually\" id=\"sk-estimator-id-3\" type=\"checkbox\" checked><label for=\"sk-estimator-id-3\" class=\"sk-toggleable__label sk-toggleable__label-arrow\">AdaBoostClassifier</label><div class=\"sk-toggleable__content\"><pre>AdaBoostClassifier(learning_rate=0.1, n_estimators=200)</pre></div></div></div></div></div>"
      ],
      "text/plain": [
       "AdaBoostClassifier(learning_rate=0.1, n_estimators=200)"
      ]
     },
     "execution_count": 33,
     "metadata": {},
     "output_type": "execute_result"
    }
   ],
   "source": [
    "adaboost_tun = AdaBoostClassifier(learning_rate = 0.1,n_estimators = 200)\n",
    "adaboost_tun.fit(xtrainsc,ytrain)"
   ]
  },
  {
   "cell_type": "code",
   "execution_count": 34,
   "id": "86cb5d03",
   "metadata": {
    "execution": {
     "iopub.execute_input": "2025-09-07T10:23:36.221906Z",
     "iopub.status.busy": "2025-09-07T10:23:36.221126Z",
     "iopub.status.idle": "2025-09-07T10:24:18.345982Z",
     "shell.execute_reply": "2025-09-07T10:24:18.344898Z"
    },
    "papermill": {
     "duration": 42.159783,
     "end_time": "2025-09-07T10:24:18.363013",
     "exception": false,
     "start_time": "2025-09-07T10:23:36.203230",
     "status": "completed"
    },
    "tags": []
   },
   "outputs": [
    {
     "name": "stdout",
     "output_type": "stream",
     "text": [
      "{'bootstrap': True, 'n_estimators': 1000}\n",
      "0.7587478597344314\n"
     ]
    }
   ],
   "source": [
    "#                       ==================== FOR BAGGING ===========================\n",
    "\n",
    "\n",
    "paramgrid = {\n",
    "    \"n_estimators\" : [100,200,500,1000],\n",
    "    \"bootstrap\":[True,False],\n",
    "    \n",
    "    \n",
    "}\n",
    "grid_bag = GridSearchCV(estimator = BaggingClassifier(random_state=1),param_grid =paramgrid,cv=3,n_jobs=-1)\n",
    "grid_bag.fit(xtrainsc,ytrain)\n",
    "print(grid_bag.best_params_)\n",
    "print(grid_bag.best_score_)"
   ]
  },
  {
   "cell_type": "code",
   "execution_count": 35,
   "id": "3d0258f2",
   "metadata": {
    "execution": {
     "iopub.execute_input": "2025-09-07T10:24:18.395710Z",
     "iopub.status.busy": "2025-09-07T10:24:18.395372Z",
     "iopub.status.idle": "2025-09-07T10:24:27.260869Z",
     "shell.execute_reply": "2025-09-07T10:24:27.259971Z"
    },
    "papermill": {
     "duration": 8.883815,
     "end_time": "2025-09-07T10:24:27.262658",
     "exception": false,
     "start_time": "2025-09-07T10:24:18.378843",
     "status": "completed"
    },
    "tags": []
   },
   "outputs": [
    {
     "data": {
      "text/html": [
       "<style>#sk-container-id-4 {color: black;background-color: white;}#sk-container-id-4 pre{padding: 0;}#sk-container-id-4 div.sk-toggleable {background-color: white;}#sk-container-id-4 label.sk-toggleable__label {cursor: pointer;display: block;width: 100%;margin-bottom: 0;padding: 0.3em;box-sizing: border-box;text-align: center;}#sk-container-id-4 label.sk-toggleable__label-arrow:before {content: \"▸\";float: left;margin-right: 0.25em;color: #696969;}#sk-container-id-4 label.sk-toggleable__label-arrow:hover:before {color: black;}#sk-container-id-4 div.sk-estimator:hover label.sk-toggleable__label-arrow:before {color: black;}#sk-container-id-4 div.sk-toggleable__content {max-height: 0;max-width: 0;overflow: hidden;text-align: left;background-color: #f0f8ff;}#sk-container-id-4 div.sk-toggleable__content pre {margin: 0.2em;color: black;border-radius: 0.25em;background-color: #f0f8ff;}#sk-container-id-4 input.sk-toggleable__control:checked~div.sk-toggleable__content {max-height: 200px;max-width: 100%;overflow: auto;}#sk-container-id-4 input.sk-toggleable__control:checked~label.sk-toggleable__label-arrow:before {content: \"▾\";}#sk-container-id-4 div.sk-estimator input.sk-toggleable__control:checked~label.sk-toggleable__label {background-color: #d4ebff;}#sk-container-id-4 div.sk-label input.sk-toggleable__control:checked~label.sk-toggleable__label {background-color: #d4ebff;}#sk-container-id-4 input.sk-hidden--visually {border: 0;clip: rect(1px 1px 1px 1px);clip: rect(1px, 1px, 1px, 1px);height: 1px;margin: -1px;overflow: hidden;padding: 0;position: absolute;width: 1px;}#sk-container-id-4 div.sk-estimator {font-family: monospace;background-color: #f0f8ff;border: 1px dotted black;border-radius: 0.25em;box-sizing: border-box;margin-bottom: 0.5em;}#sk-container-id-4 div.sk-estimator:hover {background-color: #d4ebff;}#sk-container-id-4 div.sk-parallel-item::after {content: \"\";width: 100%;border-bottom: 1px solid gray;flex-grow: 1;}#sk-container-id-4 div.sk-label:hover label.sk-toggleable__label {background-color: #d4ebff;}#sk-container-id-4 div.sk-serial::before {content: \"\";position: absolute;border-left: 1px solid gray;box-sizing: border-box;top: 0;bottom: 0;left: 50%;z-index: 0;}#sk-container-id-4 div.sk-serial {display: flex;flex-direction: column;align-items: center;background-color: white;padding-right: 0.2em;padding-left: 0.2em;position: relative;}#sk-container-id-4 div.sk-item {position: relative;z-index: 1;}#sk-container-id-4 div.sk-parallel {display: flex;align-items: stretch;justify-content: center;background-color: white;position: relative;}#sk-container-id-4 div.sk-item::before, #sk-container-id-4 div.sk-parallel-item::before {content: \"\";position: absolute;border-left: 1px solid gray;box-sizing: border-box;top: 0;bottom: 0;left: 50%;z-index: -1;}#sk-container-id-4 div.sk-parallel-item {display: flex;flex-direction: column;z-index: 1;position: relative;background-color: white;}#sk-container-id-4 div.sk-parallel-item:first-child::after {align-self: flex-end;width: 50%;}#sk-container-id-4 div.sk-parallel-item:last-child::after {align-self: flex-start;width: 50%;}#sk-container-id-4 div.sk-parallel-item:only-child::after {width: 0;}#sk-container-id-4 div.sk-dashed-wrapped {border: 1px dashed gray;margin: 0 0.4em 0.5em 0.4em;box-sizing: border-box;padding-bottom: 0.4em;background-color: white;}#sk-container-id-4 div.sk-label label {font-family: monospace;font-weight: bold;display: inline-block;line-height: 1.2em;}#sk-container-id-4 div.sk-label-container {text-align: center;}#sk-container-id-4 div.sk-container {/* jupyter's `normalize.less` sets `[hidden] { display: none; }` but bootstrap.min.css set `[hidden] { display: none !important; }` so we also need the `!important` here to be able to override the default hidden behavior on the sphinx rendered scikit-learn.org. See: https://github.com/scikit-learn/scikit-learn/issues/21755 */display: inline-block !important;position: relative;}#sk-container-id-4 div.sk-text-repr-fallback {display: none;}</style><div id=\"sk-container-id-4\" class=\"sk-top-container\"><div class=\"sk-text-repr-fallback\"><pre>BaggingClassifier(n_estimators=1000)</pre><b>In a Jupyter environment, please rerun this cell to show the HTML representation or trust the notebook. <br />On GitHub, the HTML representation is unable to render, please try loading this page with nbviewer.org.</b></div><div class=\"sk-container\" hidden><div class=\"sk-item\"><div class=\"sk-estimator sk-toggleable\"><input class=\"sk-toggleable__control sk-hidden--visually\" id=\"sk-estimator-id-4\" type=\"checkbox\" checked><label for=\"sk-estimator-id-4\" class=\"sk-toggleable__label sk-toggleable__label-arrow\">BaggingClassifier</label><div class=\"sk-toggleable__content\"><pre>BaggingClassifier(n_estimators=1000)</pre></div></div></div></div></div>"
      ],
      "text/plain": [
       "BaggingClassifier(n_estimators=1000)"
      ]
     },
     "execution_count": 35,
     "metadata": {},
     "output_type": "execute_result"
    }
   ],
   "source": [
    "bag_tun = BaggingClassifier(bootstrap = True,n_estimators=1000)\n",
    "bag_tun.fit(xtrainsc,ytrain)"
   ]
  },
  {
   "cell_type": "code",
   "execution_count": 36,
   "id": "f0dece5c",
   "metadata": {
    "execution": {
     "iopub.execute_input": "2025-09-07T10:24:27.296910Z",
     "iopub.status.busy": "2025-09-07T10:24:27.295958Z",
     "iopub.status.idle": "2025-09-07T10:24:27.393096Z",
     "shell.execute_reply": "2025-09-07T10:24:27.392096Z"
    },
    "papermill": {
     "duration": 0.11611,
     "end_time": "2025-09-07T10:24:27.394711",
     "exception": false,
     "start_time": "2025-09-07T10:24:27.278601",
     "status": "completed"
    },
    "tags": []
   },
   "outputs": [
    {
     "name": "stdout",
     "output_type": "stream",
     "text": [
      "{'criterion': 'gini', 'max_depth': 2}\n",
      "0.7175071966795726\n"
     ]
    }
   ],
   "source": [
    "#              ============================for DESCISION TREE ==============================\n",
    "paramgrid = {\n",
    "    \"criterion\":[\"gini\",\"entropy\"] , \n",
    "    \"max_depth\":[2,4,3,5,1],\n",
    "    \n",
    "    \n",
    "    \n",
    "}\n",
    "grid_tre = GridSearchCV(estimator = DecisionTreeClassifier(random_state=1),param_grid =paramgrid,cv=3,n_jobs=-1)\n",
    "grid_tre.fit(xtrainsc,ytrain)\n",
    "print(grid_tre.best_params_)\n",
    "print(grid_tre.best_score_)\n",
    "\n"
   ]
  },
  {
   "cell_type": "code",
   "execution_count": 37,
   "id": "0e14a241",
   "metadata": {
    "execution": {
     "iopub.execute_input": "2025-09-07T10:24:27.427324Z",
     "iopub.status.busy": "2025-09-07T10:24:27.427009Z",
     "iopub.status.idle": "2025-09-07T10:24:27.437481Z",
     "shell.execute_reply": "2025-09-07T10:24:27.436671Z"
    },
    "papermill": {
     "duration": 0.028565,
     "end_time": "2025-09-07T10:24:27.438981",
     "exception": false,
     "start_time": "2025-09-07T10:24:27.410416",
     "status": "completed"
    },
    "tags": []
   },
   "outputs": [
    {
     "data": {
      "text/html": [
       "<style>#sk-container-id-5 {color: black;background-color: white;}#sk-container-id-5 pre{padding: 0;}#sk-container-id-5 div.sk-toggleable {background-color: white;}#sk-container-id-5 label.sk-toggleable__label {cursor: pointer;display: block;width: 100%;margin-bottom: 0;padding: 0.3em;box-sizing: border-box;text-align: center;}#sk-container-id-5 label.sk-toggleable__label-arrow:before {content: \"▸\";float: left;margin-right: 0.25em;color: #696969;}#sk-container-id-5 label.sk-toggleable__label-arrow:hover:before {color: black;}#sk-container-id-5 div.sk-estimator:hover label.sk-toggleable__label-arrow:before {color: black;}#sk-container-id-5 div.sk-toggleable__content {max-height: 0;max-width: 0;overflow: hidden;text-align: left;background-color: #f0f8ff;}#sk-container-id-5 div.sk-toggleable__content pre {margin: 0.2em;color: black;border-radius: 0.25em;background-color: #f0f8ff;}#sk-container-id-5 input.sk-toggleable__control:checked~div.sk-toggleable__content {max-height: 200px;max-width: 100%;overflow: auto;}#sk-container-id-5 input.sk-toggleable__control:checked~label.sk-toggleable__label-arrow:before {content: \"▾\";}#sk-container-id-5 div.sk-estimator input.sk-toggleable__control:checked~label.sk-toggleable__label {background-color: #d4ebff;}#sk-container-id-5 div.sk-label input.sk-toggleable__control:checked~label.sk-toggleable__label {background-color: #d4ebff;}#sk-container-id-5 input.sk-hidden--visually {border: 0;clip: rect(1px 1px 1px 1px);clip: rect(1px, 1px, 1px, 1px);height: 1px;margin: -1px;overflow: hidden;padding: 0;position: absolute;width: 1px;}#sk-container-id-5 div.sk-estimator {font-family: monospace;background-color: #f0f8ff;border: 1px dotted black;border-radius: 0.25em;box-sizing: border-box;margin-bottom: 0.5em;}#sk-container-id-5 div.sk-estimator:hover {background-color: #d4ebff;}#sk-container-id-5 div.sk-parallel-item::after {content: \"\";width: 100%;border-bottom: 1px solid gray;flex-grow: 1;}#sk-container-id-5 div.sk-label:hover label.sk-toggleable__label {background-color: #d4ebff;}#sk-container-id-5 div.sk-serial::before {content: \"\";position: absolute;border-left: 1px solid gray;box-sizing: border-box;top: 0;bottom: 0;left: 50%;z-index: 0;}#sk-container-id-5 div.sk-serial {display: flex;flex-direction: column;align-items: center;background-color: white;padding-right: 0.2em;padding-left: 0.2em;position: relative;}#sk-container-id-5 div.sk-item {position: relative;z-index: 1;}#sk-container-id-5 div.sk-parallel {display: flex;align-items: stretch;justify-content: center;background-color: white;position: relative;}#sk-container-id-5 div.sk-item::before, #sk-container-id-5 div.sk-parallel-item::before {content: \"\";position: absolute;border-left: 1px solid gray;box-sizing: border-box;top: 0;bottom: 0;left: 50%;z-index: -1;}#sk-container-id-5 div.sk-parallel-item {display: flex;flex-direction: column;z-index: 1;position: relative;background-color: white;}#sk-container-id-5 div.sk-parallel-item:first-child::after {align-self: flex-end;width: 50%;}#sk-container-id-5 div.sk-parallel-item:last-child::after {align-self: flex-start;width: 50%;}#sk-container-id-5 div.sk-parallel-item:only-child::after {width: 0;}#sk-container-id-5 div.sk-dashed-wrapped {border: 1px dashed gray;margin: 0 0.4em 0.5em 0.4em;box-sizing: border-box;padding-bottom: 0.4em;background-color: white;}#sk-container-id-5 div.sk-label label {font-family: monospace;font-weight: bold;display: inline-block;line-height: 1.2em;}#sk-container-id-5 div.sk-label-container {text-align: center;}#sk-container-id-5 div.sk-container {/* jupyter's `normalize.less` sets `[hidden] { display: none; }` but bootstrap.min.css set `[hidden] { display: none !important; }` so we also need the `!important` here to be able to override the default hidden behavior on the sphinx rendered scikit-learn.org. See: https://github.com/scikit-learn/scikit-learn/issues/21755 */display: inline-block !important;position: relative;}#sk-container-id-5 div.sk-text-repr-fallback {display: none;}</style><div id=\"sk-container-id-5\" class=\"sk-top-container\"><div class=\"sk-text-repr-fallback\"><pre>DecisionTreeClassifier(max_depth=2)</pre><b>In a Jupyter environment, please rerun this cell to show the HTML representation or trust the notebook. <br />On GitHub, the HTML representation is unable to render, please try loading this page with nbviewer.org.</b></div><div class=\"sk-container\" hidden><div class=\"sk-item\"><div class=\"sk-estimator sk-toggleable\"><input class=\"sk-toggleable__control sk-hidden--visually\" id=\"sk-estimator-id-5\" type=\"checkbox\" checked><label for=\"sk-estimator-id-5\" class=\"sk-toggleable__label sk-toggleable__label-arrow\">DecisionTreeClassifier</label><div class=\"sk-toggleable__content\"><pre>DecisionTreeClassifier(max_depth=2)</pre></div></div></div></div></div>"
      ],
      "text/plain": [
       "DecisionTreeClassifier(max_depth=2)"
      ]
     },
     "execution_count": 37,
     "metadata": {},
     "output_type": "execute_result"
    }
   ],
   "source": [
    "tre_tun = DecisionTreeClassifier(criterion='gini',max_depth=2)\n",
    "tre_tun.fit(xtrainsc,ytrain)"
   ]
  },
  {
   "cell_type": "code",
   "execution_count": null,
   "id": "933191f8",
   "metadata": {
    "papermill": {
     "duration": 0.015707,
     "end_time": "2025-09-07T10:24:27.470815",
     "exception": false,
     "start_time": "2025-09-07T10:24:27.455108",
     "status": "completed"
    },
    "tags": []
   },
   "outputs": [],
   "source": [
    "\n",
    "\n",
    "\n"
   ]
  },
  {
   "cell_type": "markdown",
   "id": "0bb5d348",
   "metadata": {
    "papermill": {
     "duration": 0.015587,
     "end_time": "2025-09-07T10:24:27.502416",
     "exception": false,
     "start_time": "2025-09-07T10:24:27.486829",
     "status": "completed"
    },
    "tags": []
   },
   "source": [
    "## COMPARISON OF MODELS\n"
   ]
  },
  {
   "cell_type": "code",
   "execution_count": 38,
   "id": "d73dde23",
   "metadata": {
    "execution": {
     "iopub.execute_input": "2025-09-07T10:24:27.536648Z",
     "iopub.status.busy": "2025-09-07T10:24:27.536240Z",
     "iopub.status.idle": "2025-09-07T10:24:27.901861Z",
     "shell.execute_reply": "2025-09-07T10:24:27.900591Z"
    },
    "papermill": {
     "duration": 0.384658,
     "end_time": "2025-09-07T10:24:27.903504",
     "exception": false,
     "start_time": "2025-09-07T10:24:27.518846",
     "status": "completed"
    },
    "tags": []
   },
   "outputs": [
    {
     "name": "stdout",
     "output_type": "stream",
     "text": [
      "accuracy score for LogisticRegression(n_jobs=-1) is  0.8125\n",
      "===================\n",
      "accuracy score for DecisionTreeClassifier() is  0.68\n",
      "===================\n",
      "accuracy score for DecisionTreeClassifier(max_depth=2) is  0.705\n",
      "===================\n",
      "accuracy score for RandomForestClassifier(n_jobs=-1) is  0.79\n",
      "===================\n",
      "accuracy score for RandomForestClassifier(max_depth=5, n_estimators=70, oob_score=True) is  0.7875\n",
      "===================\n",
      "accuracy score for AdaBoostClassifier() is  0.75\n",
      "===================\n",
      "accuracy score for AdaBoostClassifier(learning_rate=0.1, n_estimators=200) is  0.795\n",
      "===================\n",
      "accuracy score for BaggingClassifier(n_jobs=-1) is  0.77\n",
      "===================\n",
      "accuracy score for BaggingClassifier(n_estimators=1000) is  0.78\n",
      "===================\n",
      "accuracy score for VotingClassifier(estimators=[('logr', LogisticRegression(max_iter=1000)),\n",
      "                             ('tree', DecisionTreeClassifier()),\n",
      "                             ('knn', KNeighborsClassifier())]) is  0.7975\n",
      "===================\n",
      "accuracy score for KNeighborsClassifier(n_jobs=-1) is  0.765\n",
      "===================\n"
     ]
    }
   ],
   "source": [
    "from sklearn.metrics import accuracy_score\n",
    "\n",
    "models = [logr, tree,tre_tun, forest,forest_tun, adboost,adaboost_tun, bag,bag_tun, vote, knn]\n",
    "for i in models :\n",
    "    print(f\"accuracy score for { i } is \",accuracy_score(ytest,i.predict(xtestsc)))\n",
    "    print(\"===================\")"
   ]
  },
  {
   "cell_type": "markdown",
   "id": "e0777357",
   "metadata": {
    "papermill": {
     "duration": 0.018814,
     "end_time": "2025-09-07T10:24:27.938624",
     "exception": false,
     "start_time": "2025-09-07T10:24:27.919810",
     "status": "completed"
    },
    "tags": []
   },
   "source": [
    "1. Best Accuracy:\n",
    "\n",
    "   * Logistic Regression achieved the highest accuracy: 0.8125\n",
    "\n",
    "   * This suggests your dataset is linearly separable to a good extent, and simple models perform very well.\n",
    "\n",
    "2. Tree-Based Models:\n",
    "\n",
    "   * Single Decision Tree is much lower (0.7125–0.705) → prone to overfitting or underfitting depending on depth.\n",
    " \n",
    "    * Random Forest improves significantly (0.7925) → ensemble helps reduce variance.\n",
    "\n",
    "    * Tuning (max_depth=5, n_estimators=70) slightly decreased accuracy (0.7775) → sometimes tuning too aggressively can  reduce performance.\n",
    "\n",
    "3. Boosting:\n",
    "\n",
    "        AdaBoost improves over a single tree (0.75 → 0.795) → combining weak learners helps.\n",
    "\n",
    "4. Bagging:\n",
    "\n",
    "        Bagging with more estimators (1000) improves accuracy (0.7925) → more learners stabilize predictions.\n",
    "\n",
    "5. Voting Classifier:\n",
    "\n",
    "        Combines Logistic Regression, Tree, k-NN → 0.7975, slightly less than Logistic Regression alone.\n",
    "\n",
    "        Indicates Logistic Regression dominates performance here.\n",
    "\n",
    "6. k-NN:\n",
    "\n",
    "        Accuracy (0.765) is decent but lower than Logistic Regression → distance-based model works okay but not the best"
   ]
  },
  {
   "cell_type": "code",
   "execution_count": null,
   "id": "b429b43d",
   "metadata": {
    "papermill": {
     "duration": 0.015758,
     "end_time": "2025-09-07T10:24:27.971812",
     "exception": false,
     "start_time": "2025-09-07T10:24:27.956054",
     "status": "completed"
    },
    "tags": []
   },
   "outputs": [],
   "source": []
  }
 ],
 "metadata": {
  "kaggle": {
   "accelerator": "none",
   "dataSources": [
    {
     "datasetId": 7987583,
     "sourceId": 12640111,
     "sourceType": "datasetVersion"
    }
   ],
   "dockerImageVersionId": 31089,
   "isGpuEnabled": false,
   "isInternetEnabled": true,
   "language": "python",
   "sourceType": "notebook"
  },
  "kernelspec": {
   "display_name": "Python 3",
   "language": "python",
   "name": "python3"
  },
  "language_info": {
   "codemirror_mode": {
    "name": "ipython",
    "version": 3
   },
   "file_extension": ".py",
   "mimetype": "text/x-python",
   "name": "python",
   "nbconvert_exporter": "python",
   "pygments_lexer": "ipython3",
   "version": "3.11.13"
  },
  "papermill": {
   "default_parameters": {},
   "duration": 147.533447,
   "end_time": "2025-09-07T10:24:30.610593",
   "environment_variables": {},
   "exception": null,
   "input_path": "__notebook__.ipynb",
   "output_path": "__notebook__.ipynb",
   "parameters": {},
   "start_time": "2025-09-07T10:22:03.077146",
   "version": "2.6.0"
  }
 },
 "nbformat": 4,
 "nbformat_minor": 5
}
